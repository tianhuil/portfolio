{
 "cells": [
  {
   "cell_type": "code",
   "execution_count": 1,
   "metadata": {},
   "outputs": [
    {
     "name": "stdout",
     "output_type": "stream",
     "text": [
      "The autoreload extension is already loaded. To reload it, use:\n",
      "  %reload_ext autoreload\n"
     ]
    }
   ],
   "source": [
    "%load_ext autoreload\n",
    "%autoreload 2\n",
    "\n",
    "import numpy as np\n",
    "import pandas as pd\n",
    "import scipy.stats as stats\n",
    "\n",
    "from fama_french import load_annual_factors, ff_display\n"
   ]
  },
  {
   "cell_type": "code",
   "execution_count": 2,
   "metadata": {},
   "outputs": [],
   "source": [
    "import matplotlib\n",
    "matplotlib.rcParams['figure.figsize'] = 12, 6"
   ]
  },
  {
   "cell_type": "markdown",
   "metadata": {},
   "source": [
    "# Load Fama French Factors\n",
    "\n",
    "Downloaded Fama-French model from [French's website](http://mba.tuck.dartmouth.edu/pages/faculty/ken.french/data_library.html#Developed) around June 16, 2019:\n",
    "\n",
    "- [Details](http://mba.tuck.dartmouth.edu/pages/faculty/ken.french/Data_Library/f-f_factors.html)\n",
    "- [File](http://mba.tuck.dartmouth.edu/pages/faculty/ken.french/ftp/F-F_Research_Data_Factors_CSV.zip)\n",
    "\n",
    "The file gives monthly returns initially and annual returns at the end."
   ]
  },
  {
   "cell_type": "code",
   "execution_count": 3,
   "metadata": {},
   "outputs": [
    {
     "data": {
      "text/html": [
       "<div>\n",
       "<style scoped>\n",
       "    .dataframe tbody tr th:only-of-type {\n",
       "        vertical-align: middle;\n",
       "    }\n",
       "\n",
       "    .dataframe tbody tr th {\n",
       "        vertical-align: top;\n",
       "    }\n",
       "\n",
       "    .dataframe thead th {\n",
       "        text-align: right;\n",
       "    }\n",
       "</style>\n",
       "<table border=\"1\" class=\"dataframe\">\n",
       "  <thead>\n",
       "    <tr style=\"text-align: right;\">\n",
       "      <th></th>\n",
       "      <th>Year</th>\n",
       "      <th>Mkt-RF</th>\n",
       "      <th>SMB</th>\n",
       "      <th>HML</th>\n",
       "      <th>RF</th>\n",
       "      <th>Alpha</th>\n",
       "    </tr>\n",
       "  </thead>\n",
       "  <tbody>\n",
       "    <tr>\n",
       "      <th>0</th>\n",
       "      <td>1927</td>\n",
       "      <td>0.2947</td>\n",
       "      <td>-0.0246</td>\n",
       "      <td>-0.0375</td>\n",
       "      <td>0.0312</td>\n",
       "      <td>1.0</td>\n",
       "    </tr>\n",
       "    <tr>\n",
       "      <th>1</th>\n",
       "      <td>1928</td>\n",
       "      <td>0.3539</td>\n",
       "      <td>0.0420</td>\n",
       "      <td>-0.0615</td>\n",
       "      <td>0.0356</td>\n",
       "      <td>1.0</td>\n",
       "    </tr>\n",
       "    <tr>\n",
       "      <th>2</th>\n",
       "      <td>1929</td>\n",
       "      <td>-0.1954</td>\n",
       "      <td>-0.3080</td>\n",
       "      <td>0.1181</td>\n",
       "      <td>0.0475</td>\n",
       "      <td>1.0</td>\n",
       "    </tr>\n",
       "    <tr>\n",
       "      <th>3</th>\n",
       "      <td>1930</td>\n",
       "      <td>-0.3123</td>\n",
       "      <td>-0.0513</td>\n",
       "      <td>-0.1228</td>\n",
       "      <td>0.0241</td>\n",
       "      <td>1.0</td>\n",
       "    </tr>\n",
       "    <tr>\n",
       "      <th>4</th>\n",
       "      <td>1931</td>\n",
       "      <td>-0.4511</td>\n",
       "      <td>0.0353</td>\n",
       "      <td>-0.1429</td>\n",
       "      <td>0.0107</td>\n",
       "      <td>1.0</td>\n",
       "    </tr>\n",
       "  </tbody>\n",
       "</table>\n",
       "</div>"
      ],
      "text/plain": [
       "   Year  Mkt-RF     SMB     HML      RF  Alpha\n",
       "0  1927  0.2947 -0.0246 -0.0375  0.0312    1.0\n",
       "1  1928  0.3539  0.0420 -0.0615  0.0356    1.0\n",
       "2  1929 -0.1954 -0.3080  0.1181  0.0475    1.0\n",
       "3  1930 -0.3123 -0.0513 -0.1228  0.0241    1.0\n",
       "4  1931 -0.4511  0.0353 -0.1429  0.0107    1.0"
      ]
     },
     "execution_count": 3,
     "metadata": {},
     "output_type": "execute_result"
    }
   ],
   "source": [
    "df_factors = load_annual_factors()\n",
    "df_factors.head()"
   ]
  },
  {
   "cell_type": "markdown",
   "metadata": {},
   "source": [
    "# Load Tactical America Smart Weight Index"
   ]
  },
  {
   "cell_type": "code",
   "execution_count": 4,
   "metadata": {},
   "outputs": [],
   "source": [
    "def to_percent(ser):\n",
    "    return (ser.str.rstrip('%')\n",
    "        .astype(float)\n",
    "        .pipe(lambda x: x/100.))"
   ]
  },
  {
   "cell_type": "code",
   "execution_count": 5,
   "metadata": {},
   "outputs": [
    {
     "data": {
      "text/html": [
       "<div>\n",
       "<style scoped>\n",
       "    .dataframe tbody tr th:only-of-type {\n",
       "        vertical-align: middle;\n",
       "    }\n",
       "\n",
       "    .dataframe tbody tr th {\n",
       "        vertical-align: top;\n",
       "    }\n",
       "\n",
       "    .dataframe thead th {\n",
       "        text-align: right;\n",
       "    }\n",
       "</style>\n",
       "<table border=\"1\" class=\"dataframe\">\n",
       "  <thead>\n",
       "    <tr style=\"text-align: right;\">\n",
       "      <th></th>\n",
       "      <th>Year</th>\n",
       "      <th>Smart Weighting</th>\n",
       "      <th>S&amp;P 500</th>\n",
       "    </tr>\n",
       "  </thead>\n",
       "  <tbody>\n",
       "    <tr>\n",
       "      <th>0</th>\n",
       "      <td>1991</td>\n",
       "      <td>0.335</td>\n",
       "      <td>0.306</td>\n",
       "    </tr>\n",
       "    <tr>\n",
       "      <th>1</th>\n",
       "      <td>1992</td>\n",
       "      <td>0.118</td>\n",
       "      <td>0.077</td>\n",
       "    </tr>\n",
       "    <tr>\n",
       "      <th>2</th>\n",
       "      <td>1993</td>\n",
       "      <td>0.133</td>\n",
       "      <td>0.100</td>\n",
       "    </tr>\n",
       "    <tr>\n",
       "      <th>3</th>\n",
       "      <td>1994</td>\n",
       "      <td>0.022</td>\n",
       "      <td>0.013</td>\n",
       "    </tr>\n",
       "    <tr>\n",
       "      <th>4</th>\n",
       "      <td>1995</td>\n",
       "      <td>0.368</td>\n",
       "      <td>0.374</td>\n",
       "    </tr>\n",
       "  </tbody>\n",
       "</table>\n",
       "</div>"
      ],
      "text/plain": [
       "   Year  Smart Weighting  S&P 500\n",
       "0  1991            0.335    0.306\n",
       "1  1992            0.118    0.077\n",
       "2  1993            0.133    0.100\n",
       "3  1994            0.022    0.013\n",
       "4  1995            0.368    0.374"
      ]
     },
     "execution_count": 5,
     "metadata": {},
     "output_type": "execute_result"
    }
   ],
   "source": [
    "df_russell = pd.read_csv(\"data/Russell.tsv\", sep='\\t').rename({'Unnamed: 0': \"Year\"}, axis=1)\n",
    "    \n",
    "df_russell[['Smart Weighting', 'S&P 500']] = df_russell[['Smart Weighting', 'S&P 500']].apply(to_percent)\n",
    "    \n",
    "df_russell.head()"
   ]
  },
  {
   "cell_type": "code",
   "execution_count": 6,
   "metadata": {},
   "outputs": [
    {
     "data": {
      "text/html": [
       "<div>\n",
       "<style scoped>\n",
       "    .dataframe tbody tr th:only-of-type {\n",
       "        vertical-align: middle;\n",
       "    }\n",
       "\n",
       "    .dataframe tbody tr th {\n",
       "        vertical-align: top;\n",
       "    }\n",
       "\n",
       "    .dataframe thead th {\n",
       "        text-align: right;\n",
       "    }\n",
       "</style>\n",
       "<table border=\"1\" class=\"dataframe\">\n",
       "  <thead>\n",
       "    <tr style=\"text-align: right;\">\n",
       "      <th></th>\n",
       "      <th>Year</th>\n",
       "      <th>Smart Weighting</th>\n",
       "      <th>S&amp;P 500</th>\n",
       "      <th>Mkt-RF</th>\n",
       "      <th>SMB</th>\n",
       "      <th>HML</th>\n",
       "      <th>RF</th>\n",
       "      <th>Alpha</th>\n",
       "    </tr>\n",
       "  </thead>\n",
       "  <tbody>\n",
       "    <tr>\n",
       "      <th>0</th>\n",
       "      <td>1991</td>\n",
       "      <td>0.335</td>\n",
       "      <td>0.306</td>\n",
       "      <td>0.2918</td>\n",
       "      <td>0.1613</td>\n",
       "      <td>-0.1441</td>\n",
       "      <td>0.0560</td>\n",
       "      <td>1.0</td>\n",
       "    </tr>\n",
       "    <tr>\n",
       "      <th>1</th>\n",
       "      <td>1992</td>\n",
       "      <td>0.118</td>\n",
       "      <td>0.077</td>\n",
       "      <td>0.0623</td>\n",
       "      <td>0.0758</td>\n",
       "      <td>0.2428</td>\n",
       "      <td>0.0351</td>\n",
       "      <td>1.0</td>\n",
       "    </tr>\n",
       "    <tr>\n",
       "      <th>2</th>\n",
       "      <td>1993</td>\n",
       "      <td>0.133</td>\n",
       "      <td>0.100</td>\n",
       "      <td>0.0821</td>\n",
       "      <td>0.0580</td>\n",
       "      <td>0.1890</td>\n",
       "      <td>0.0290</td>\n",
       "      <td>1.0</td>\n",
       "    </tr>\n",
       "    <tr>\n",
       "      <th>3</th>\n",
       "      <td>1994</td>\n",
       "      <td>0.022</td>\n",
       "      <td>0.013</td>\n",
       "      <td>-0.0410</td>\n",
       "      <td>-0.0107</td>\n",
       "      <td>-0.0066</td>\n",
       "      <td>0.0390</td>\n",
       "      <td>1.0</td>\n",
       "    </tr>\n",
       "    <tr>\n",
       "      <th>4</th>\n",
       "      <td>1995</td>\n",
       "      <td>0.368</td>\n",
       "      <td>0.374</td>\n",
       "      <td>0.3122</td>\n",
       "      <td>-0.0910</td>\n",
       "      <td>0.0524</td>\n",
       "      <td>0.0560</td>\n",
       "      <td>1.0</td>\n",
       "    </tr>\n",
       "  </tbody>\n",
       "</table>\n",
       "</div>"
      ],
      "text/plain": [
       "   Year  Smart Weighting  S&P 500  Mkt-RF     SMB     HML      RF  Alpha\n",
       "0  1991            0.335    0.306  0.2918  0.1613 -0.1441  0.0560    1.0\n",
       "1  1992            0.118    0.077  0.0623  0.0758  0.2428  0.0351    1.0\n",
       "2  1993            0.133    0.100  0.0821  0.0580  0.1890  0.0290    1.0\n",
       "3  1994            0.022    0.013 -0.0410 -0.0107 -0.0066  0.0390    1.0\n",
       "4  1995            0.368    0.374  0.3122 -0.0910  0.0524  0.0560    1.0"
      ]
     },
     "execution_count": 6,
     "metadata": {},
     "output_type": "execute_result"
    }
   ],
   "source": [
    "df1 = df_russell.merge(df_factors, on='Year', how='inner')\n",
    "df1.head()"
   ]
  },
  {
   "cell_type": "markdown",
   "metadata": {},
   "source": [
    "# Excess Return of Smart Weighting"
   ]
  },
  {
   "cell_type": "code",
   "execution_count": 7,
   "metadata": {},
   "outputs": [
    {
     "data": {
      "text/plain": [
       "0.013666666666666674"
      ]
     },
     "execution_count": 7,
     "metadata": {},
     "output_type": "execute_result"
    }
   ],
   "source": [
    "(df1['Smart Weighting'] - df1['S&P 500']).mean()"
   ]
  },
  {
   "cell_type": "markdown",
   "metadata": {},
   "source": [
    "# Fama French Factors"
   ]
  },
  {
   "cell_type": "code",
   "execution_count": 8,
   "metadata": {},
   "outputs": [
    {
     "data": {
      "text/html": [
       "<b>Fama French factors:</b>"
      ],
      "text/plain": [
       "<IPython.core.display.HTML object>"
      ]
     },
     "metadata": {},
     "output_type": "display_data"
    },
    {
     "data": {
      "text/html": [
       "<div>\n",
       "<style scoped>\n",
       "    .dataframe tbody tr th:only-of-type {\n",
       "        vertical-align: middle;\n",
       "    }\n",
       "\n",
       "    .dataframe tbody tr th {\n",
       "        vertical-align: top;\n",
       "    }\n",
       "\n",
       "    .dataframe thead th {\n",
       "        text-align: right;\n",
       "    }\n",
       "</style>\n",
       "<table border=\"1\" class=\"dataframe\">\n",
       "  <thead>\n",
       "    <tr style=\"text-align: right;\">\n",
       "      <th></th>\n",
       "      <th>Smart Weighting</th>\n",
       "      <th>S&amp;P 500</th>\n",
       "    </tr>\n",
       "  </thead>\n",
       "  <tbody>\n",
       "    <tr>\n",
       "      <th>Mkt-RF</th>\n",
       "      <td>0.954591</td>\n",
       "      <td>0.990379</td>\n",
       "    </tr>\n",
       "    <tr>\n",
       "      <th>SMB</th>\n",
       "      <td>0.052521</td>\n",
       "      <td>-0.159506</td>\n",
       "    </tr>\n",
       "    <tr>\n",
       "      <th>HML</th>\n",
       "      <td>0.156031</td>\n",
       "      <td>0.041177</td>\n",
       "    </tr>\n",
       "    <tr>\n",
       "      <th>Alpha</th>\n",
       "      <td>0.005723</td>\n",
       "      <td>-0.000011</td>\n",
       "    </tr>\n",
       "    <tr>\n",
       "      <th>R^2</th>\n",
       "      <td>0.982191</td>\n",
       "      <td>0.997312</td>\n",
       "    </tr>\n",
       "  </tbody>\n",
       "</table>\n",
       "</div>"
      ],
      "text/plain": [
       "        Smart Weighting   S&P 500\n",
       "Mkt-RF         0.954591  0.990379\n",
       "SMB            0.052521 -0.159506\n",
       "HML            0.156031  0.041177\n",
       "Alpha          0.005723 -0.000011\n",
       "R^2            0.982191  0.997312"
      ]
     },
     "metadata": {},
     "output_type": "display_data"
    },
    {
     "name": "stdout",
     "output_type": "stream",
     "text": [
      "\n"
     ]
    },
    {
     "data": {
      "text/html": [
       "<b>Contributions to return:</b>"
      ],
      "text/plain": [
       "<IPython.core.display.HTML object>"
      ]
     },
     "metadata": {},
     "output_type": "display_data"
    },
    {
     "data": {
      "text/html": [
       "<div>\n",
       "<style scoped>\n",
       "    .dataframe tbody tr th:only-of-type {\n",
       "        vertical-align: middle;\n",
       "    }\n",
       "\n",
       "    .dataframe tbody tr th {\n",
       "        vertical-align: top;\n",
       "    }\n",
       "\n",
       "    .dataframe thead th {\n",
       "        text-align: right;\n",
       "    }\n",
       "</style>\n",
       "<table border=\"1\" class=\"dataframe\">\n",
       "  <thead>\n",
       "    <tr style=\"text-align: right;\">\n",
       "      <th></th>\n",
       "      <th>Smart Weighting</th>\n",
       "      <th>S&amp;P 500</th>\n",
       "    </tr>\n",
       "  </thead>\n",
       "  <tbody>\n",
       "    <tr>\n",
       "      <th>Mkt-RF</th>\n",
       "      <td>0.073213</td>\n",
       "      <td>0.075957</td>\n",
       "    </tr>\n",
       "    <tr>\n",
       "      <th>SMB</th>\n",
       "      <td>0.001533</td>\n",
       "      <td>-0.004655</td>\n",
       "    </tr>\n",
       "    <tr>\n",
       "      <th>HML</th>\n",
       "      <td>0.006098</td>\n",
       "      <td>0.001609</td>\n",
       "    </tr>\n",
       "    <tr>\n",
       "      <th>Alpha</th>\n",
       "      <td>0.005723</td>\n",
       "      <td>-0.000011</td>\n",
       "    </tr>\n",
       "  </tbody>\n",
       "</table>\n",
       "</div>"
      ],
      "text/plain": [
       "        Smart Weighting   S&P 500\n",
       "Mkt-RF         0.073213  0.075957\n",
       "SMB            0.001533 -0.004655\n",
       "HML            0.006098  0.001609\n",
       "Alpha          0.005723 -0.000011"
      ]
     },
     "metadata": {},
     "output_type": "display_data"
    },
    {
     "data": {
      "image/png": "[encoded data removed]",
      "text/plain": [
       "<Figure size 864x432 with 1 Axes>"
      ]
     },
     "metadata": {
      "needs_background": "light"
     },
     "output_type": "display_data"
    },
    {
     "data": {
      "image/png": "[encoded data removed]",
      "text/plain": [
       "<Figure size 864x432 with 1 Axes>"
      ]
     },
     "metadata": {
      "needs_background": "light"
     },
     "output_type": "display_data"
    }
   ],
   "source": [
    "ff_display(df1, ('Smart Weighting', 'S&P 500'))"
   ]
  },
  {
   "cell_type": "markdown",
   "metadata": {},
   "source": [
    "# Load Personal Capital Returns\n",
    "\n",
    "These were downloaded June 16th, 2019 from the [Personal Capital Website](https://www.personalcapital.com/wealth-management/performance)"
   ]
  },
  {
   "cell_type": "code",
   "execution_count": 9,
   "metadata": {},
   "outputs": [
    {
     "data": {
      "text/html": [
       "<div>\n",
       "<style scoped>\n",
       "    .dataframe tbody tr th:only-of-type {\n",
       "        vertical-align: middle;\n",
       "    }\n",
       "\n",
       "    .dataframe tbody tr th {\n",
       "        vertical-align: top;\n",
       "    }\n",
       "\n",
       "    .dataframe thead th {\n",
       "        text-align: right;\n",
       "    }\n",
       "</style>\n",
       "<table border=\"1\" class=\"dataframe\">\n",
       "  <thead>\n",
       "    <tr style=\"text-align: right;\">\n",
       "      <th></th>\n",
       "      <th>Types</th>\n",
       "      <th>2012</th>\n",
       "      <th>2013</th>\n",
       "      <th>2014</th>\n",
       "      <th>2015</th>\n",
       "      <th>2016</th>\n",
       "      <th>2017</th>\n",
       "      <th>2018</th>\n",
       "      <th>YTD (through 3/31)</th>\n",
       "      <th>Since Inception (Annualized)</th>\n",
       "    </tr>\n",
       "  </thead>\n",
       "  <tbody>\n",
       "    <tr>\n",
       "      <th>0</th>\n",
       "      <td>Aggressive 1</td>\n",
       "      <td>NaN</td>\n",
       "      <td>NaN</td>\n",
       "      <td>NaN</td>\n",
       "      <td>NaN</td>\n",
       "      <td>NaN</td>\n",
       "      <td>NaN</td>\n",
       "      <td>NaN</td>\n",
       "      <td>NaN</td>\n",
       "      <td>NaN</td>\n",
       "    </tr>\n",
       "    <tr>\n",
       "      <th>1</th>\n",
       "      <td>Composite Personal Strategy</td>\n",
       "      <td>18.3%</td>\n",
       "      <td>22.1%</td>\n",
       "      <td>3.9%</td>\n",
       "      <td>-1.5%</td>\n",
       "      <td>10.8%</td>\n",
       "      <td>17.9%</td>\n",
       "      <td>-8.3%</td>\n",
       "      <td>12.0%</td>\n",
       "      <td>11.0%</td>\n",
       "    </tr>\n",
       "    <tr>\n",
       "      <th>2</th>\n",
       "      <td>Comparative Benchmark</td>\n",
       "      <td>15.1%</td>\n",
       "      <td>20.4%</td>\n",
       "      <td>4.9%</td>\n",
       "      <td>-3.2%</td>\n",
       "      <td>9.3%</td>\n",
       "      <td>19.9%</td>\n",
       "      <td>-8.3%</td>\n",
       "      <td>11.8%</td>\n",
       "      <td>10.1%</td>\n",
       "    </tr>\n",
       "    <tr>\n",
       "      <th>3</th>\n",
       "      <td>Growth 2</td>\n",
       "      <td>NaN</td>\n",
       "      <td>NaN</td>\n",
       "      <td>NaN</td>\n",
       "      <td>NaN</td>\n",
       "      <td>NaN</td>\n",
       "      <td>NaN</td>\n",
       "      <td>NaN</td>\n",
       "      <td>NaN</td>\n",
       "      <td>NaN</td>\n",
       "    </tr>\n",
       "    <tr>\n",
       "      <th>4</th>\n",
       "      <td>Composite Personal Strategy</td>\n",
       "      <td>16.9%</td>\n",
       "      <td>18.0%</td>\n",
       "      <td>3.2%</td>\n",
       "      <td>-2.0%</td>\n",
       "      <td>10.2%</td>\n",
       "      <td>16.3%</td>\n",
       "      <td>-7.5%</td>\n",
       "      <td>10.9%</td>\n",
       "      <td>9.7%</td>\n",
       "    </tr>\n",
       "  </tbody>\n",
       "</table>\n",
       "</div>"
      ],
      "text/plain": [
       "                         Types   2012   2013  2014   2015   2016   2017  \\\n",
       "0                 Aggressive 1    NaN    NaN   NaN    NaN    NaN    NaN   \n",
       "1  Composite Personal Strategy  18.3%  22.1%  3.9%  -1.5%  10.8%  17.9%   \n",
       "2        Comparative Benchmark  15.1%  20.4%  4.9%  -3.2%   9.3%  19.9%   \n",
       "3                     Growth 2    NaN    NaN   NaN    NaN    NaN    NaN   \n",
       "4  Composite Personal Strategy  16.9%  18.0%  3.2%  -2.0%  10.2%  16.3%   \n",
       "\n",
       "    2018 YTD (through 3/31) Since Inception (Annualized)  \n",
       "0    NaN                NaN                          NaN  \n",
       "1  -8.3%              12.0%                        11.0%  \n",
       "2  -8.3%              11.8%                        10.1%  \n",
       "3    NaN                NaN                          NaN  \n",
       "4  -7.5%              10.9%                         9.7%  "
      ]
     },
     "execution_count": 9,
     "metadata": {},
     "output_type": "execute_result"
    }
   ],
   "source": [
    "with open('data/Personal_Capital_Performancel.html') as fh:\n",
    "    html = fh.read()\n",
    "    html = html.replace('colspan=\"100%\"', '')  # manually remove poorly formatted HTML\n",
    "    df_pc_raw = pd.read_html(html)[0]\n",
    "    \n",
    "df_pc_raw.head()"
   ]
  },
  {
   "cell_type": "code",
   "execution_count": 10,
   "metadata": {},
   "outputs": [
    {
     "data": {
      "text/html": [
       "<div>\n",
       "<style scoped>\n",
       "    .dataframe tbody tr th:only-of-type {\n",
       "        vertical-align: middle;\n",
       "    }\n",
       "\n",
       "    .dataframe tbody tr th {\n",
       "        vertical-align: top;\n",
       "    }\n",
       "\n",
       "    .dataframe thead th {\n",
       "        text-align: right;\n",
       "    }\n",
       "</style>\n",
       "<table border=\"1\" class=\"dataframe\">\n",
       "  <thead>\n",
       "    <tr style=\"text-align: right;\">\n",
       "      <th></th>\n",
       "      <th>Aggressive 1</th>\n",
       "      <th>Growth 2</th>\n",
       "      <th>Moderate 3</th>\n",
       "      <th>Balanced 4</th>\n",
       "      <th>Conservative 5</th>\n",
       "      <th>Tactical America 6</th>\n",
       "      <th>S&amp;P 500 Proxy ETF (SPY)</th>\n",
       "    </tr>\n",
       "  </thead>\n",
       "  <tbody>\n",
       "    <tr>\n",
       "      <th>2012</th>\n",
       "      <td>0.183</td>\n",
       "      <td>0.169</td>\n",
       "      <td>0.155</td>\n",
       "      <td>0.135</td>\n",
       "      <td>0.113</td>\n",
       "      <td>0.178</td>\n",
       "      <td>0.160</td>\n",
       "    </tr>\n",
       "    <tr>\n",
       "      <th>2013</th>\n",
       "      <td>0.221</td>\n",
       "      <td>0.180</td>\n",
       "      <td>0.140</td>\n",
       "      <td>0.102</td>\n",
       "      <td>0.074</td>\n",
       "      <td>0.340</td>\n",
       "      <td>0.323</td>\n",
       "    </tr>\n",
       "    <tr>\n",
       "      <th>2014</th>\n",
       "      <td>0.039</td>\n",
       "      <td>0.032</td>\n",
       "      <td>0.026</td>\n",
       "      <td>0.022</td>\n",
       "      <td>0.020</td>\n",
       "      <td>0.071</td>\n",
       "      <td>0.135</td>\n",
       "    </tr>\n",
       "    <tr>\n",
       "      <th>2015</th>\n",
       "      <td>-0.015</td>\n",
       "      <td>-0.020</td>\n",
       "      <td>-0.025</td>\n",
       "      <td>-0.027</td>\n",
       "      <td>-0.029</td>\n",
       "      <td>0.018</td>\n",
       "      <td>0.012</td>\n",
       "    </tr>\n",
       "    <tr>\n",
       "      <th>2016</th>\n",
       "      <td>0.108</td>\n",
       "      <td>0.102</td>\n",
       "      <td>0.096</td>\n",
       "      <td>0.085</td>\n",
       "      <td>0.077</td>\n",
       "      <td>0.141</td>\n",
       "      <td>0.120</td>\n",
       "    </tr>\n",
       "  </tbody>\n",
       "</table>\n",
       "</div>"
      ],
      "text/plain": [
       "      Aggressive 1  Growth 2  Moderate 3  Balanced 4  Conservative 5  \\\n",
       "2012         0.183     0.169       0.155       0.135           0.113   \n",
       "2013         0.221     0.180       0.140       0.102           0.074   \n",
       "2014         0.039     0.032       0.026       0.022           0.020   \n",
       "2015        -0.015    -0.020      -0.025      -0.027          -0.029   \n",
       "2016         0.108     0.102       0.096       0.085           0.077   \n",
       "\n",
       "      Tactical America 6  S&P 500 Proxy ETF (SPY)  \n",
       "2012               0.178                    0.160  \n",
       "2013               0.340                    0.323  \n",
       "2014               0.071                    0.135  \n",
       "2015               0.018                    0.012  \n",
       "2016               0.141                    0.120  "
      ]
     },
     "execution_count": 10,
     "metadata": {},
     "output_type": "execute_result"
    }
   ],
   "source": [
    "df_pc = pd.DataFrame(\n",
    "    df_pc_raw.loc[\n",
    "        [1, 4, 7, 10, 13, 16, 18],\n",
    "        '2012':'2018'\n",
    "    ].values,\n",
    "    index=df_pc_raw.iloc[[0, 3, 6, 9, 12, 15, 18]]['Types'].values,\n",
    "    columns=range(2012, 2019)\n",
    ").T\n",
    "\n",
    "df_pc = df_pc.apply(to_percent)\n",
    "df_pc.to_csv(\"data/pc_annual_returns.csv\")\n",
    "df_pc.head()"
   ]
  },
  {
   "cell_type": "code",
   "execution_count": 11,
   "metadata": {},
   "outputs": [
    {
     "data": {
      "text/html": [
       "<div>\n",
       "<style scoped>\n",
       "    .dataframe tbody tr th:only-of-type {\n",
       "        vertical-align: middle;\n",
       "    }\n",
       "\n",
       "    .dataframe tbody tr th {\n",
       "        vertical-align: top;\n",
       "    }\n",
       "\n",
       "    .dataframe thead th {\n",
       "        text-align: right;\n",
       "    }\n",
       "</style>\n",
       "<table border=\"1\" class=\"dataframe\">\n",
       "  <thead>\n",
       "    <tr style=\"text-align: right;\">\n",
       "      <th></th>\n",
       "      <th>Aggressive 1</th>\n",
       "      <th>Growth 2</th>\n",
       "      <th>Moderate 3</th>\n",
       "      <th>Balanced 4</th>\n",
       "      <th>Conservative 5</th>\n",
       "      <th>Tactical America 6</th>\n",
       "      <th>S&amp;P 500 Proxy ETF (SPY)</th>\n",
       "      <th>Year</th>\n",
       "      <th>Mkt-RF</th>\n",
       "      <th>SMB</th>\n",
       "      <th>HML</th>\n",
       "      <th>RF</th>\n",
       "      <th>Alpha</th>\n",
       "    </tr>\n",
       "  </thead>\n",
       "  <tbody>\n",
       "    <tr>\n",
       "      <th>85</th>\n",
       "      <td>0.183</td>\n",
       "      <td>0.169</td>\n",
       "      <td>0.155</td>\n",
       "      <td>0.135</td>\n",
       "      <td>0.113</td>\n",
       "      <td>0.178</td>\n",
       "      <td>0.160</td>\n",
       "      <td>2012</td>\n",
       "      <td>0.1628</td>\n",
       "      <td>-0.0115</td>\n",
       "      <td>0.0973</td>\n",
       "      <td>0.0006</td>\n",
       "      <td>1.0</td>\n",
       "    </tr>\n",
       "    <tr>\n",
       "      <th>86</th>\n",
       "      <td>0.221</td>\n",
       "      <td>0.180</td>\n",
       "      <td>0.140</td>\n",
       "      <td>0.102</td>\n",
       "      <td>0.074</td>\n",
       "      <td>0.340</td>\n",
       "      <td>0.323</td>\n",
       "      <td>2013</td>\n",
       "      <td>0.3520</td>\n",
       "      <td>0.0727</td>\n",
       "      <td>0.0150</td>\n",
       "      <td>0.0002</td>\n",
       "      <td>1.0</td>\n",
       "    </tr>\n",
       "    <tr>\n",
       "      <th>87</th>\n",
       "      <td>0.039</td>\n",
       "      <td>0.032</td>\n",
       "      <td>0.026</td>\n",
       "      <td>0.022</td>\n",
       "      <td>0.020</td>\n",
       "      <td>0.071</td>\n",
       "      <td>0.135</td>\n",
       "      <td>2014</td>\n",
       "      <td>0.1170</td>\n",
       "      <td>-0.0808</td>\n",
       "      <td>-0.0164</td>\n",
       "      <td>0.0002</td>\n",
       "      <td>1.0</td>\n",
       "    </tr>\n",
       "    <tr>\n",
       "      <th>88</th>\n",
       "      <td>-0.015</td>\n",
       "      <td>-0.020</td>\n",
       "      <td>-0.025</td>\n",
       "      <td>-0.027</td>\n",
       "      <td>-0.029</td>\n",
       "      <td>0.018</td>\n",
       "      <td>0.012</td>\n",
       "      <td>2015</td>\n",
       "      <td>0.0007</td>\n",
       "      <td>-0.0405</td>\n",
       "      <td>-0.0961</td>\n",
       "      <td>0.0002</td>\n",
       "      <td>1.0</td>\n",
       "    </tr>\n",
       "    <tr>\n",
       "      <th>89</th>\n",
       "      <td>0.108</td>\n",
       "      <td>0.102</td>\n",
       "      <td>0.096</td>\n",
       "      <td>0.085</td>\n",
       "      <td>0.077</td>\n",
       "      <td>0.141</td>\n",
       "      <td>0.120</td>\n",
       "      <td>2016</td>\n",
       "      <td>0.1330</td>\n",
       "      <td>0.0660</td>\n",
       "      <td>0.2289</td>\n",
       "      <td>0.0020</td>\n",
       "      <td>1.0</td>\n",
       "    </tr>\n",
       "  </tbody>\n",
       "</table>\n",
       "</div>"
      ],
      "text/plain": [
       "    Aggressive 1  Growth 2  Moderate 3  Balanced 4  Conservative 5  \\\n",
       "85         0.183     0.169       0.155       0.135           0.113   \n",
       "86         0.221     0.180       0.140       0.102           0.074   \n",
       "87         0.039     0.032       0.026       0.022           0.020   \n",
       "88        -0.015    -0.020      -0.025      -0.027          -0.029   \n",
       "89         0.108     0.102       0.096       0.085           0.077   \n",
       "\n",
       "    Tactical America 6  S&P 500 Proxy ETF (SPY)  Year  Mkt-RF     SMB     HML  \\\n",
       "85               0.178                    0.160  2012  0.1628 -0.0115  0.0973   \n",
       "86               0.340                    0.323  2013  0.3520  0.0727  0.0150   \n",
       "87               0.071                    0.135  2014  0.1170 -0.0808 -0.0164   \n",
       "88               0.018                    0.012  2015  0.0007 -0.0405 -0.0961   \n",
       "89               0.141                    0.120  2016  0.1330  0.0660  0.2289   \n",
       "\n",
       "        RF  Alpha  \n",
       "85  0.0006    1.0  \n",
       "86  0.0002    1.0  \n",
       "87  0.0002    1.0  \n",
       "88  0.0002    1.0  \n",
       "89  0.0020    1.0  "
      ]
     },
     "execution_count": 11,
     "metadata": {},
     "output_type": "execute_result"
    }
   ],
   "source": [
    "df2 = df_pc.merge(df_factors, left_index=True, right_on='Year', how='inner')\n",
    "df2.head()"
   ]
  },
  {
   "cell_type": "code",
   "execution_count": 12,
   "metadata": {},
   "outputs": [
    {
     "data": {
      "text/plain": [
       "-0.00985714285714285"
      ]
     },
     "execution_count": 12,
     "metadata": {},
     "output_type": "execute_result"
    }
   ],
   "source": [
    "(df2['Tactical America 6'] - df2['S&P 500 Proxy ETF (SPY)']).mean()"
   ]
  },
  {
   "cell_type": "code",
   "execution_count": 13,
   "metadata": {},
   "outputs": [
    {
     "data": {
      "text/html": [
       "<b>Fama French factors:</b>"
      ],
      "text/plain": [
       "<IPython.core.display.HTML object>"
      ]
     },
     "metadata": {},
     "output_type": "display_data"
    },
    {
     "data": {
      "text/html": [
       "<div>\n",
       "<style scoped>\n",
       "    .dataframe tbody tr th:only-of-type {\n",
       "        vertical-align: middle;\n",
       "    }\n",
       "\n",
       "    .dataframe tbody tr th {\n",
       "        vertical-align: top;\n",
       "    }\n",
       "\n",
       "    .dataframe thead th {\n",
       "        text-align: right;\n",
       "    }\n",
       "</style>\n",
       "<table border=\"1\" class=\"dataframe\">\n",
       "  <thead>\n",
       "    <tr style=\"text-align: right;\">\n",
       "      <th></th>\n",
       "      <th>Smart Weighting</th>\n",
       "      <th>S&amp;P 500</th>\n",
       "    </tr>\n",
       "  </thead>\n",
       "  <tbody>\n",
       "    <tr>\n",
       "      <th>Mkt-RF</th>\n",
       "      <td>0.954591</td>\n",
       "      <td>0.990379</td>\n",
       "    </tr>\n",
       "    <tr>\n",
       "      <th>SMB</th>\n",
       "      <td>0.052521</td>\n",
       "      <td>-0.159506</td>\n",
       "    </tr>\n",
       "    <tr>\n",
       "      <th>HML</th>\n",
       "      <td>0.156031</td>\n",
       "      <td>0.041177</td>\n",
       "    </tr>\n",
       "    <tr>\n",
       "      <th>Alpha</th>\n",
       "      <td>0.005723</td>\n",
       "      <td>-0.000011</td>\n",
       "    </tr>\n",
       "    <tr>\n",
       "      <th>R^2</th>\n",
       "      <td>0.982191</td>\n",
       "      <td>0.997312</td>\n",
       "    </tr>\n",
       "  </tbody>\n",
       "</table>\n",
       "</div>"
      ],
      "text/plain": [
       "        Smart Weighting   S&P 500\n",
       "Mkt-RF         0.954591  0.990379\n",
       "SMB            0.052521 -0.159506\n",
       "HML            0.156031  0.041177\n",
       "Alpha          0.005723 -0.000011\n",
       "R^2            0.982191  0.997312"
      ]
     },
     "metadata": {},
     "output_type": "display_data"
    },
    {
     "name": "stdout",
     "output_type": "stream",
     "text": [
      "\n"
     ]
    },
    {
     "data": {
      "text/html": [
       "<b>Contributions to return:</b>"
      ],
      "text/plain": [
       "<IPython.core.display.HTML object>"
      ]
     },
     "metadata": {},
     "output_type": "display_data"
    },
    {
     "data": {
      "text/html": [
       "<div>\n",
       "<style scoped>\n",
       "    .dataframe tbody tr th:only-of-type {\n",
       "        vertical-align: middle;\n",
       "    }\n",
       "\n",
       "    .dataframe tbody tr th {\n",
       "        vertical-align: top;\n",
       "    }\n",
       "\n",
       "    .dataframe thead th {\n",
       "        text-align: right;\n",
       "    }\n",
       "</style>\n",
       "<table border=\"1\" class=\"dataframe\">\n",
       "  <thead>\n",
       "    <tr style=\"text-align: right;\">\n",
       "      <th></th>\n",
       "      <th>Smart Weighting</th>\n",
       "      <th>S&amp;P 500</th>\n",
       "    </tr>\n",
       "  </thead>\n",
       "  <tbody>\n",
       "    <tr>\n",
       "      <th>Mkt-RF</th>\n",
       "      <td>0.073213</td>\n",
       "      <td>0.075957</td>\n",
       "    </tr>\n",
       "    <tr>\n",
       "      <th>SMB</th>\n",
       "      <td>0.001533</td>\n",
       "      <td>-0.004655</td>\n",
       "    </tr>\n",
       "    <tr>\n",
       "      <th>HML</th>\n",
       "      <td>0.006098</td>\n",
       "      <td>0.001609</td>\n",
       "    </tr>\n",
       "    <tr>\n",
       "      <th>Alpha</th>\n",
       "      <td>0.005723</td>\n",
       "      <td>-0.000011</td>\n",
       "    </tr>\n",
       "  </tbody>\n",
       "</table>\n",
       "</div>"
      ],
      "text/plain": [
       "        Smart Weighting   S&P 500\n",
       "Mkt-RF         0.073213  0.075957\n",
       "SMB            0.001533 -0.004655\n",
       "HML            0.006098  0.001609\n",
       "Alpha          0.005723 -0.000011"
      ]
     },
     "metadata": {},
     "output_type": "display_data"
    },
    {
     "data": {
      "image/png": "[encoded data removed]",
      "text/plain": [
       "<Figure size 864x432 with 1 Axes>"
      ]
     },
     "metadata": {
      "needs_background": "light"
     },
     "output_type": "display_data"
    },
    {
     "data": {
      "image/png": "[encoded data removed]",
      "text/plain": [
       "<Figure size 864x432 with 1 Axes>"
      ]
     },
     "metadata": {
      "needs_background": "light"
     },
     "output_type": "display_data"
    }
   ],
   "source": [
    "ff_display(df1, ('Smart Weighting', 'S&P 500'))"
   ]
  },
  {
   "cell_type": "code",
   "execution_count": 14,
   "metadata": {
    "scrolled": false
   },
   "outputs": [
    {
     "data": {
      "text/html": [
       "<b>Fama French factors:</b>"
      ],
      "text/plain": [
       "<IPython.core.display.HTML object>"
      ]
     },
     "metadata": {},
     "output_type": "display_data"
    },
    {
     "data": {
      "text/html": [
       "<div>\n",
       "<style scoped>\n",
       "    .dataframe tbody tr th:only-of-type {\n",
       "        vertical-align: middle;\n",
       "    }\n",
       "\n",
       "    .dataframe tbody tr th {\n",
       "        vertical-align: top;\n",
       "    }\n",
       "\n",
       "    .dataframe thead th {\n",
       "        text-align: right;\n",
       "    }\n",
       "</style>\n",
       "<table border=\"1\" class=\"dataframe\">\n",
       "  <thead>\n",
       "    <tr style=\"text-align: right;\">\n",
       "      <th></th>\n",
       "      <th>Aggressive 1</th>\n",
       "      <th>Growth 2</th>\n",
       "      <th>Moderate 3</th>\n",
       "      <th>Balanced 4</th>\n",
       "      <th>Conservative 5</th>\n",
       "      <th>Tactical America 6</th>\n",
       "      <th>S&amp;P 500 Proxy ETF (SPY)</th>\n",
       "    </tr>\n",
       "  </thead>\n",
       "  <tbody>\n",
       "    <tr>\n",
       "      <th>Mkt-RF</th>\n",
       "      <td>0.818227</td>\n",
       "      <td>0.722536</td>\n",
       "      <td>0.622154</td>\n",
       "      <td>0.512395</td>\n",
       "      <td>0.428431</td>\n",
       "      <td>0.856183</td>\n",
       "      <td>0.959264</td>\n",
       "    </tr>\n",
       "    <tr>\n",
       "      <th>SMB</th>\n",
       "      <td>-0.290543</td>\n",
       "      <td>-0.361265</td>\n",
       "      <td>-0.425961</td>\n",
       "      <td>-0.462183</td>\n",
       "      <td>-0.470702</td>\n",
       "      <td>0.325036</td>\n",
       "      <td>-0.243706</td>\n",
       "    </tr>\n",
       "    <tr>\n",
       "      <th>HML</th>\n",
       "      <td>0.191388</td>\n",
       "      <td>0.225015</td>\n",
       "      <td>0.265015</td>\n",
       "      <td>0.280020</td>\n",
       "      <td>0.280439</td>\n",
       "      <td>0.048059</td>\n",
       "      <td>0.031822</td>\n",
       "    </tr>\n",
       "    <tr>\n",
       "      <th>Alpha</th>\n",
       "      <td>-0.023416</td>\n",
       "      <td>-0.023270</td>\n",
       "      <td>-0.022874</td>\n",
       "      <td>-0.021538</td>\n",
       "      <td>-0.020985</td>\n",
       "      <td>0.009587</td>\n",
       "      <td>-0.000077</td>\n",
       "    </tr>\n",
       "    <tr>\n",
       "      <th>R^2</th>\n",
       "      <td>0.909541</td>\n",
       "      <td>0.883281</td>\n",
       "      <td>0.853685</td>\n",
       "      <td>0.828094</td>\n",
       "      <td>0.816537</td>\n",
       "      <td>0.978553</td>\n",
       "      <td>0.999263</td>\n",
       "    </tr>\n",
       "  </tbody>\n",
       "</table>\n",
       "</div>"
      ],
      "text/plain": [
       "        Aggressive 1  Growth 2  Moderate 3  Balanced 4  Conservative 5  \\\n",
       "Mkt-RF      0.818227  0.722536    0.622154    0.512395        0.428431   \n",
       "SMB        -0.290543 -0.361265   -0.425961   -0.462183       -0.470702   \n",
       "HML         0.191388  0.225015    0.265015    0.280020        0.280439   \n",
       "Alpha      -0.023416 -0.023270   -0.022874   -0.021538       -0.020985   \n",
       "R^2         0.909541  0.883281    0.853685    0.828094        0.816537   \n",
       "\n",
       "        Tactical America 6  S&P 500 Proxy ETF (SPY)  \n",
       "Mkt-RF            0.856183                 0.959264  \n",
       "SMB               0.325036                -0.243706  \n",
       "HML               0.048059                 0.031822  \n",
       "Alpha             0.009587                -0.000077  \n",
       "R^2               0.978553                 0.999263  "
      ]
     },
     "metadata": {},
     "output_type": "display_data"
    },
    {
     "name": "stdout",
     "output_type": "stream",
     "text": [
      "\n"
     ]
    },
    {
     "data": {
      "text/html": [
       "<b>Contributions to return:</b>"
      ],
      "text/plain": [
       "<IPython.core.display.HTML object>"
      ]
     },
     "metadata": {},
     "output_type": "display_data"
    },
    {
     "data": {
      "text/html": [
       "<div>\n",
       "<style scoped>\n",
       "    .dataframe tbody tr th:only-of-type {\n",
       "        vertical-align: middle;\n",
       "    }\n",
       "\n",
       "    .dataframe tbody tr th {\n",
       "        vertical-align: top;\n",
       "    }\n",
       "\n",
       "    .dataframe thead th {\n",
       "        text-align: right;\n",
       "    }\n",
       "</style>\n",
       "<table border=\"1\" class=\"dataframe\">\n",
       "  <thead>\n",
       "    <tr style=\"text-align: right;\">\n",
       "      <th></th>\n",
       "      <th>Aggressive 1</th>\n",
       "      <th>Growth 2</th>\n",
       "      <th>Moderate 3</th>\n",
       "      <th>Balanced 4</th>\n",
       "      <th>Conservative 5</th>\n",
       "      <th>Tactical America 6</th>\n",
       "      <th>S&amp;P 500 Proxy ETF (SPY)</th>\n",
       "    </tr>\n",
       "  </thead>\n",
       "  <tbody>\n",
       "    <tr>\n",
       "      <th>Mkt-RF</th>\n",
       "      <td>0.106510</td>\n",
       "      <td>0.094054</td>\n",
       "      <td>0.080987</td>\n",
       "      <td>0.066699</td>\n",
       "      <td>0.055769</td>\n",
       "      <td>0.111451</td>\n",
       "      <td>0.124869</td>\n",
       "    </tr>\n",
       "    <tr>\n",
       "      <th>SMB</th>\n",
       "      <td>0.003113</td>\n",
       "      <td>0.003871</td>\n",
       "      <td>0.004564</td>\n",
       "      <td>0.004952</td>\n",
       "      <td>0.005043</td>\n",
       "      <td>-0.003483</td>\n",
       "      <td>0.002611</td>\n",
       "    </tr>\n",
       "    <tr>\n",
       "      <th>HML</th>\n",
       "      <td>-0.000107</td>\n",
       "      <td>-0.000125</td>\n",
       "      <td>-0.000148</td>\n",
       "      <td>-0.000156</td>\n",
       "      <td>-0.000156</td>\n",
       "      <td>-0.000027</td>\n",
       "      <td>-0.000018</td>\n",
       "    </tr>\n",
       "    <tr>\n",
       "      <th>Alpha</th>\n",
       "      <td>-0.023416</td>\n",
       "      <td>-0.023270</td>\n",
       "      <td>-0.022874</td>\n",
       "      <td>-0.021538</td>\n",
       "      <td>-0.020985</td>\n",
       "      <td>0.009587</td>\n",
       "      <td>-0.000077</td>\n",
       "    </tr>\n",
       "  </tbody>\n",
       "</table>\n",
       "</div>"
      ],
      "text/plain": [
       "        Aggressive 1  Growth 2  Moderate 3  Balanced 4  Conservative 5  \\\n",
       "Mkt-RF      0.106510  0.094054    0.080987    0.066699        0.055769   \n",
       "SMB         0.003113  0.003871    0.004564    0.004952        0.005043   \n",
       "HML        -0.000107 -0.000125   -0.000148   -0.000156       -0.000156   \n",
       "Alpha      -0.023416 -0.023270   -0.022874   -0.021538       -0.020985   \n",
       "\n",
       "        Tactical America 6  S&P 500 Proxy ETF (SPY)  \n",
       "Mkt-RF            0.111451                 0.124869  \n",
       "SMB              -0.003483                 0.002611  \n",
       "HML              -0.000027                -0.000018  \n",
       "Alpha             0.009587                -0.000077  "
      ]
     },
     "metadata": {},
     "output_type": "display_data"
    },
    {
     "data": {
      "image/png": "[encoded data removed]",
      "text/plain": [
       "<Figure size 864x432 with 1 Axes>"
      ]
     },
     "metadata": {
      "needs_background": "light"
     },
     "output_type": "display_data"
    },
    {
     "data": {
      "image/png": "[encoded data removed]",
      "text/plain": [
       "<Figure size 864x432 with 1 Axes>"
      ]
     },
     "metadata": {
      "needs_background": "light"
     },
     "output_type": "display_data"
    }
   ],
   "source": [
    "INDEX_COLS = (\n",
    "    'Aggressive 1',\n",
    "    'Growth 2',\n",
    "    'Moderate 3',\n",
    "    'Balanced 4',\n",
    "    'Conservative 5',\n",
    "    'Tactical America 6',\n",
    "    'S&P 500 Proxy ETF (SPY)',\n",
    ")\n",
    "\n",
    "WATERFALL_COLS = (\n",
    "    'Tactical America 6',\n",
    "    'S&P 500 Proxy ETF (SPY)',\n",
    ")\n",
    "\n",
    "ff_display(df2, INDEX_COLS, WATERFALL_COLS)"
   ]
  }
 ],
 "metadata": {
  "kernelspec": {
   "display_name": "portfolio",
   "language": "python",
   "name": "portfolio"
  },
  "language_info": {
   "codemirror_mode": {
    "name": "ipython",
    "version": 3
   },
   "file_extension": ".py",
   "mimetype": "text/x-python",
   "name": "python",
   "nbconvert_exporter": "python",
   "pygments_lexer": "ipython3",
   "version": "3.7.2"
  }
 },
 "nbformat": 4,
 "nbformat_minor": 2
}
