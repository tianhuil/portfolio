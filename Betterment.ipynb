{
 "cells": [
  {
   "cell_type": "code",
   "execution_count": 1,
   "metadata": {},
   "outputs": [
    {
     "name": "stdout",
     "output_type": "stream",
     "text": [
      "The autoreload extension is already loaded. To reload it, use:\n",
      "  %reload_ext autoreload\n"
     ]
    }
   ],
   "source": [
    "%load_ext autoreload\n",
    "%autoreload 2\n",
    "\n",
    "from bs4 import BeautifulSoup\n",
    "import pandas as pd\n",
    "import matplotlib.pylab as plt\n",
    "import numpy as np\n",
    "import scipy as sp\n",
    "from sklearn import linear_model\n",
    "\n",
    "from fama_french import load_monthly_factors, ff_display"
   ]
  },
  {
   "cell_type": "code",
   "execution_count": 2,
   "metadata": {},
   "outputs": [
    {
     "ename": "NameError",
     "evalue": "name 'matplotlib' is not defined",
     "output_type": "error",
     "traceback": [
      "\u001b[0;31m---------------------------------------------------------------------------\u001b[0m",
      "\u001b[0;31mNameError\u001b[0m                                 Traceback (most recent call last)",
      "\u001b[0;32m<ipython-input-2-55504b895225>\u001b[0m in \u001b[0;36m<module>\u001b[0;34m\u001b[0m\n\u001b[0;32m----> 1\u001b[0;31m \u001b[0mmatplotlib\u001b[0m\u001b[0;34m.\u001b[0m\u001b[0mrcParams\u001b[0m\u001b[0;34m[\u001b[0m\u001b[0;34m'figure.figsize'\u001b[0m\u001b[0;34m]\u001b[0m \u001b[0;34m=\u001b[0m \u001b[0;36m12\u001b[0m\u001b[0;34m,\u001b[0m \u001b[0;36m6\u001b[0m\u001b[0;34m\u001b[0m\u001b[0;34m\u001b[0m\u001b[0m\n\u001b[0m",
      "\u001b[0;31mNameError\u001b[0m: name 'matplotlib' is not defined"
     ]
    }
   ],
   "source": [
    "import matplotlib\n",
    "matplotlib.rcParams['figure.figsize'] = 12, 6"
   ]
  },
  {
   "cell_type": "markdown",
   "metadata": {},
   "source": [
    "# Betterment Performance Data\n",
    "\n",
    "Betterment's performance data is located on [their performance page](https://www.betterment.com/resources/betterment-historical-performance/) in an IFrame [that points to CloudFront](https://d1svladlv4b69d.cloudfront.net/src/d3/bmt-hist-perf-line-graph/bmt-hist-perf.html).  We downloaded the HTML of the latter on June 21st."
   ]
  },
  {
   "cell_type": "code",
   "execution_count": null,
   "metadata": {},
   "outputs": [],
   "source": [
    "with open(\"data/Betterment_Performance.html\") as fh:\n",
    "    soup = BeautifulSoup(fh)\n",
    "    paths = soup.select(\"g.g-linecontainer path.g-port-line\")\n"
   ]
  },
  {
   "cell_type": "markdown",
   "metadata": {},
   "source": [
    "## SVG Graphics\n",
    "\n",
    "SVG graphics language is an `M[x],[y]` followed by a series of `L[x],[y]` commands ([source](https://developer.mozilla.org/en-US/docs/Web/SVG/Tutorial/Paths)).  They can be parsed from \"path\" objects.  Remember that the x coordinates increase left to right but the y coordinates increase *up to down* ([source](https://www.w3.org/TR/SVG/coords.html)), as with most coodinate systems for monitor displays.\n",
    "\n",
    "In an email, Betterment staff explained that the returns dated from the end of the month."
   ]
  },
  {
   "cell_type": "code",
   "execution_count": null,
   "metadata": {},
   "outputs": [],
   "source": [
    "# extract Jan 2004 to Feb 2019 (inclusive) values\n",
    "dates = pd.date_range(start='2004/1/31', end='2019/2/28', freq='M')\n",
    "\n",
    "def extract_y_coors(data):\n",
    "    assert(data.startswith('M'))\n",
    "    pairs = [[float(x) for x in pair.split(',')] for pair in data[1:].split('L')]\n",
    "    assert(len(pairs) == len(dates))\n",
    "    return [y for _, y in pairs]\n",
    "\n",
    "df_y = pd.DataFrame({\n",
    "    path.get('class')[1]: extract_y_coors(path.get('d'))\n",
    "    for path in paths\n",
    "}, index=dates).sort_index()\n",
    "\n",
    "df_y.tail()\n"
   ]
  },
  {
   "cell_type": "markdown",
   "metadata": {},
   "source": [
    "## Parse Returns Table"
   ]
  },
  {
   "cell_type": "code",
   "execution_count": null,
   "metadata": {},
   "outputs": [],
   "source": [
    "def parse_percent(x):\n",
    "    if isinstance(x, str) and x.endswith('%'):\n",
    "        return float(x[:-1]) / 100\n",
    "    return x\n",
    "\n",
    "with open(\"data/Betterment_Performance.html\") as fh:\n",
    "    df_raw = pd.read_html(fh)[0]\n",
    "    df_r = pd.DataFrame(\n",
    "        df_raw.iloc[2:,:].values,\n",
    "        columns=df_raw.iloc[1,:].values\n",
    "    ).set_index('Portfolio').applymap(parse_percent)\n",
    "    \n",
    "df_r"
   ]
  },
  {
   "cell_type": "markdown",
   "metadata": {},
   "source": [
    "# Join path data and Return Table\n",
    "\n",
    "We're in luck -- the data aligns so it's easy to join them"
   ]
  },
  {
   "cell_type": "code",
   "execution_count": null,
   "metadata": {},
   "outputs": [],
   "source": [
    "label_dict = dict(zip(df_y.columns, df_r.index))\n",
    "label_dict"
   ]
  },
  {
   "cell_type": "code",
   "execution_count": null,
   "metadata": {},
   "outputs": [],
   "source": [
    "if set(df_y.columns) != set(label_dict.values()):\n",
    "    df_y.columns = [label_dict[x] for x in df_y.columns]\n",
    "df_y.tail()"
   ]
  },
  {
   "cell_type": "code",
   "execution_count": null,
   "metadata": {},
   "outputs": [],
   "source": [
    "df_ry = pd.merge(\n",
    "    df_r, df_y.iloc[-1:, :].T,\n",
    "    right_index=True,\n",
    "    left_index=True\n",
    ")\n",
    "df_ry"
   ]
  },
  {
   "cell_type": "markdown",
   "metadata": {},
   "source": [
    "## Connect path coodinates with returns\n",
    "\n",
    "We use the terminal coordinates for each index and match them (via linear regression) against the cumulative returns to infer the monthly returns."
   ]
  },
  {
   "cell_type": "code",
   "execution_count": null,
   "metadata": {},
   "outputs": [],
   "source": [
    "# Slightly overdone use of linear regression\n",
    "lm = linear_model.LinearRegression()\n",
    "X = df_ry[[pd.Timestamp('2019-02-28 00:00:00', freq='M')]]\n",
    "y = df_ry['Cumulative Return'] + 1.  # index values\n",
    "\n",
    "lm.fit(X, y)\n",
    "print(\"R^2: {}\".format(lm.score(X, y)))"
   ]
  },
  {
   "cell_type": "code",
   "execution_count": null,
   "metadata": {},
   "outputs": [],
   "source": [
    "df_index = df_y.apply(lambda col: lm.predict(col[:, np.newaxis]))\n",
    "df_index.head()"
   ]
  },
  {
   "cell_type": "code",
   "execution_count": null,
   "metadata": {},
   "outputs": [],
   "source": [
    "df_index.to_csv(\"data/betterment_values.csv\")"
   ]
  },
  {
   "cell_type": "markdown",
   "metadata": {},
   "source": [
    "## Returns"
   ]
  },
  {
   "cell_type": "code",
   "execution_count": null,
   "metadata": {},
   "outputs": [],
   "source": [
    "df_returns = pd.DataFrame(\n",
    "    df_index.iloc[1:,:].values / df_index.iloc[:-1,:].values,\n",
    "    columns = df_index.columns,\n",
    "    index = df_index.index[1:]\n",
    ") - 1.\n",
    "df_returns['Year'] = df_returns.index.year\n",
    "df_returns['Month'] = df_returns.index.month\n",
    "df_returns.head()"
   ]
  },
  {
   "cell_type": "markdown",
   "metadata": {},
   "source": [
    "## Betterment performs 0.02% worse than S&P 500"
   ]
  },
  {
   "cell_type": "code",
   "execution_count": null,
   "metadata": {
    "scrolled": true
   },
   "outputs": [],
   "source": [
    "(df_returns['Betterment 100% stock'] - df_returns['S&P 500 Index']).mean() * 12"
   ]
  },
  {
   "cell_type": "code",
   "execution_count": null,
   "metadata": {
    "scrolled": true
   },
   "outputs": [],
   "source": [
    "df_annual_returns = ((df_returns + 1.)\n",
    "    .drop(['Year', 'Month'], axis=1)\n",
    "    .groupby(lambda x: x.year)\n",
    "    .prod() - 1.)\n",
    "df_annual_returns.to_csv('data/betterment_annual_returns.csv')\n",
    "df_annual_returns.loc[[2012, 2013, 2014, 2015, 2016, 2017, 2018]]"
   ]
  },
  {
   "cell_type": "markdown",
   "metadata": {},
   "source": [
    "## Load Monthly Fama French Factors"
   ]
  },
  {
   "cell_type": "code",
   "execution_count": null,
   "metadata": {},
   "outputs": [],
   "source": [
    "df_factors = load_monthly_factors()\n",
    "df_factors.head()\n"
   ]
  },
  {
   "cell_type": "code",
   "execution_count": null,
   "metadata": {},
   "outputs": [],
   "source": [
    "df = df_returns.merge(\n",
    "    df_factors,\n",
    "    on=('Year', 'Month'),\n",
    "    how='inner'\n",
    ")\n",
    "\n",
    "df.head()"
   ]
  },
  {
   "cell_type": "markdown",
   "metadata": {},
   "source": [
    "# Perhaps slighty worse with Fama French"
   ]
  },
  {
   "cell_type": "code",
   "execution_count": null,
   "metadata": {
    "scrolled": false
   },
   "outputs": [],
   "source": [
    "index_cols = [\n",
    "   'S&P 500 Index', 'Betterment 100% stock',\n",
    "   'Betterment 80% stock', 'Betterment 70% stock', 'Betterment 60% stock',\n",
    "   'Betterment 50% stock',\n",
    "   'Avg. private client investor 80-100% equity risk',\n",
    "   'Betterment 40% stock',\n",
    "   'Avg. private client investor 60-80% equity risk',\n",
    "   'Betterment 30% stock',\n",
    "   'Avg. private client investor 40-60% equity risk',\n",
    "   'Betterment 20% stock',\n",
    "   'Avg. private client investor 0-40% equity risk',\n",
    "   'Five year U.S. Treasury Bills', 'Betterment 10% stock',\n",
    "   'Betterment 0% stock'\n",
    "]\n",
    "\n",
    "waterfall_cols = [\n",
    "    'S&P 500 Index', 'Betterment 100% stock',\n",
    "    'Betterment 80% stock'\n",
    "]\n",
    "\n",
    "ff_display(df, index_cols, waterfall_cols, monthly=True)"
   ]
  }
 ],
 "metadata": {
  "kernelspec": {
   "display_name": "portfolio",
   "language": "python",
   "name": "portfolio"
  },
  "language_info": {
   "codemirror_mode": {
    "name": "ipython",
    "version": 3
   },
   "file_extension": ".py",
   "mimetype": "text/x-python",
   "name": "python",
   "nbconvert_exporter": "python",
   "pygments_lexer": "ipython3",
   "version": "3.7.2"
  }
 },
 "nbformat": 4,
 "nbformat_minor": 2
}
